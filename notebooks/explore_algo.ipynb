{
 "cells": [
  {
   "cell_type": "code",
   "execution_count": 1,
   "metadata": {},
   "outputs": [
    {
     "name": "stdout",
     "output_type": "stream",
     "text": [
      "My address: F3ONYOMHSPO5DKF2Z744DBB5ZQX5LMJAKMUWLHAD43LEU4OPWGF5QAFHGA\n",
      "My private key: AogEoPWnBiqPBsE/KzqwHBXwjmWY8aBog5YJRSdMykQu3Nw5h5Pd0ai6z/nBhD3ML9WxIFMpZZwD5tZKcc+xiw==\n",
      "My passphrase: able banana source leg ask skin crucial scissors gun trim fix fade then glove segment various beef asset slender explain excess narrow chaos able game\n"
     ]
    }
   ],
   "source": [
    "from algosdk import account, mnemonic\n",
    "\n",
    "private_key, address = account.generate_account()\n",
    "print(\"My address: {}\".format(address))\n",
    "print(\"My private key: {}\".format(private_key))\n",
    "print(\"My passphrase: {}\".format(mnemonic.from_private_key(private_key)))\n"
   ]
  },
  {
   "cell_type": "code",
   "execution_count": 2,
   "metadata": {},
   "outputs": [],
   "source": [
    "mnemo2 = 'tribe leopard seek wage genre affair section topic pulse end rare enough butter hope buzz arctic night truly muffin breeze repeat limit child ability turtle'\n",
    "priv_2 = mnemonic.to_private_key(mnemo2)\n",
    "pub_2 = mnemonic.to_public_key(mnemo2)"
   ]
  },
  {
   "cell_type": "code",
   "execution_count": 3,
   "metadata": {},
   "outputs": [
    {
     "data": {
      "text/plain": [
       "'QhcghmOPMBFUGOVsZRJkr6SPtfEjC6xceiK5UdsH/iReuSoQnLCrSqTm3JGZlcFcHgEdcfcEibrBs3DBCdYgOA=='"
      ]
     },
     "execution_count": 3,
     "metadata": {},
     "output_type": "execute_result"
    }
   ],
   "source": [
    "priv_2"
   ]
  },
  {
   "cell_type": "code",
   "execution_count": 5,
   "metadata": {},
   "outputs": [],
   "source": [
    "from algosdk.v2client import algod\n",
    "\n",
    "algod_address = \"http://localhost:4001\"\n",
    "algod_token = \"aaaaaaaaaaaaaaaaaaaaaaaaaaaaaaaaaaaaaaaaaaaaaaaaaaaaaaaaaaaaaaaa\"\n",
    "algod_client = algod.AlgodClient(algod_token, algod_address)"
   ]
  },
  {
   "cell_type": "code",
   "execution_count": 6,
   "metadata": {},
   "outputs": [
    {
     "name": "stdout",
     "output_type": "stream",
     "text": [
      "Account balance: 4000808000000000 microAlgos\n",
      "\n"
     ]
    }
   ],
   "source": [
    "account_info = algod_client.account_info(pub_2)\n",
    "print(\"Account balance: {} microAlgos\".format(account_info.get('amount')) + \"\\n\")\n"
   ]
  },
  {
   "cell_type": "code",
   "execution_count": 9,
   "metadata": {},
   "outputs": [],
   "source": [
    "# build transaction\n",
    "from algosdk.future import transaction\n",
    "from algosdk import constants\n",
    "\n",
    "\n",
    "params = algod_client.suggested_params()\n",
    "    # comment out the next two (2) lines to use suggested fees\n",
    "params.flat_fee = True\n",
    "params.fee = constants.MIN_TXN_FEE \n",
    "receiver = address\n",
    "note = \"Hello World\".encode()\n",
    "amount = 1000000\n",
    "unsigned_txn = transaction.PaymentTxn(pub_2, params, receiver, amount, None, note)\n"
   ]
  },
  {
   "cell_type": "code",
   "execution_count": 11,
   "metadata": {},
   "outputs": [],
   "source": [
    "# sign transaction\n",
    "signed_txn = unsigned_txn.sign(priv_2)\n"
   ]
  },
  {
   "cell_type": "code",
   "execution_count": 13,
   "metadata": {},
   "outputs": [],
   "source": [
    "txid = algod_client.send_transaction(signed_txn)"
   ]
  },
  {
   "cell_type": "code",
   "execution_count": 14,
   "metadata": {},
   "outputs": [
    {
     "name": "stdout",
     "output_type": "stream",
     "text": [
      "Successfully sent transaction with txID: ZTGYQWW7QS6UG6BQRJ4C6XHPGAME6KIADZNUJLA7DS7RKVU7JUQQ\n",
      "Transaction information: {\n",
      "    \"confirmed-round\": 8850,\n",
      "    \"pool-error\": \"\",\n",
      "    \"sender-rewards\": 884000000000,\n",
      "    \"txn\": {\n",
      "        \"sig\": \"9RNTER+B8QD/owXOBHGWx4M2TyWfYgfx1QWsMyrju7p1eoanY30YCY9mn2/z50vmHJbIl+Vr9PXBjztFbsX8Ag==\",\n",
      "        \"txn\": {\n",
      "            \"amt\": 1000000,\n",
      "            \"fee\": 1000,\n",
      "            \"fv\": 8160,\n",
      "            \"gen\": \"sandnet-v1\",\n",
      "            \"gh\": \"vvErYnu7ztsIY+DuOBVCeTFM3JSJk5JbSXLOGE6KVc8=\",\n",
      "            \"lv\": 9160,\n",
      "            \"note\": \"SGVsbG8gV29ybGQ=\",\n",
      "            \"rcv\": \"F3ONYOMHSPO5DKF2Z744DBB5ZQX5LMJAKMUWLHAD43LEU4OPWGF5QAFHGA\",\n",
      "            \"snd\": \"L24SUEE4WCVUVJHG3SIZTFOBLQPACHLR64CITOWBWNYMCCOWEA4G4KOUYU\",\n",
      "            \"type\": \"pay\"\n",
      "        }\n",
      "    }\n",
      "}\n",
      "Decoded note: Hello World\n",
      "Starting Account balance: 0 microAlgos\n",
      "Amount transfered: 1000000 microAlgos\n",
      "Fee: 1000 microAlgos\n",
      "Final Account balance: 4000887999882998 microAlgos\n",
      "\n"
     ]
    }
   ],
   "source": [
    "import json\n",
    "import base64\n",
    "\n",
    "\n",
    "    #submit transaction\n",
    "    \n",
    "print(\"Successfully sent transaction with txID: {}\".format(txid))\n",
    "\n",
    "    # wait for confirmation \n",
    "try:\n",
    "    confirmed_txn = transaction.wait_for_confirmation(algod_client, txid, 4)  \n",
    "except Exception as err:\n",
    "    print(err)\n",
    "    #return\n",
    "\n",
    "print(\"Transaction information: {}\".format(\n",
    "    json.dumps(confirmed_txn, indent=4)))\n",
    "print(\"Decoded note: {}\".format(base64.b64decode(\n",
    "    confirmed_txn[\"txn\"][\"txn\"][\"note\"]).decode()))\n",
    "print(\"Starting Account balance: {} microAlgos\".format(account_info.get('amount')) )\n",
    "print(\"Amount transfered: {} microAlgos\".format(amount) )    \n",
    "print(\"Fee: {} microAlgos\".format(params.fee) ) \n",
    "\n",
    "\n",
    "account_info = algod_client.account_info(pub_2)\n",
    "print(\"Final Account balance: {} microAlgos\".format(account_info.get('amount')) + \"\\n\")\n"
   ]
  },
  {
   "cell_type": "code",
   "execution_count": 15,
   "metadata": {},
   "outputs": [
    {
     "name": "stdout",
     "output_type": "stream",
     "text": [
      "Final Account balance: 1000001 microAlgos\n",
      "\n"
     ]
    }
   ],
   "source": [
    "account_info = algod_client.account_info(address)\n",
    "print(\"Final Account balance: {} microAlgos\".format(account_info.get('amount')) + \"\\n\")"
   ]
  },
  {
   "cell_type": "code",
   "execution_count": null,
   "metadata": {},
   "outputs": [],
   "source": []
  },
  {
   "cell_type": "markdown",
   "metadata": {},
   "source": [
    "# ASSETS"
   ]
  },
  {
   "cell_type": "code",
   "execution_count": 16,
   "metadata": {},
   "outputs": [
    {
     "name": "stdout",
     "output_type": "stream",
     "text": [
      "Signed transaction with txID: T7KJXGUDKYWGIHO2AMBKBBHCKSADREPLS5S7RUTO33JSRHDEUOXA\n",
      "name 'wait_for_confirmation' is not defined\n",
      "Transaction information: {\n",
      "    \"confirmed-round\": 8850,\n",
      "    \"pool-error\": \"\",\n",
      "    \"sender-rewards\": 884000000000,\n",
      "    \"txn\": {\n",
      "        \"sig\": \"9RNTER+B8QD/owXOBHGWx4M2TyWfYgfx1QWsMyrju7p1eoanY30YCY9mn2/z50vmHJbIl+Vr9PXBjztFbsX8Ag==\",\n",
      "        \"txn\": {\n",
      "            \"amt\": 1000000,\n",
      "            \"fee\": 1000,\n",
      "            \"fv\": 8160,\n",
      "            \"gen\": \"sandnet-v1\",\n",
      "            \"gh\": \"vvErYnu7ztsIY+DuOBVCeTFM3JSJk5JbSXLOGE6KVc8=\",\n",
      "            \"lv\": 9160,\n",
      "            \"note\": \"SGVsbG8gV29ybGQ=\",\n",
      "            \"rcv\": \"F3ONYOMHSPO5DKF2Z744DBB5ZQX5LMJAKMUWLHAD43LEU4OPWGF5QAFHGA\",\n",
      "            \"snd\": \"L24SUEE4WCVUVJHG3SIZTFOBLQPACHLR64CITOWBWNYMCCOWEA4G4KOUYU\",\n",
      "            \"type\": \"pay\"\n",
      "        }\n",
      "    }\n",
      "}\n"
     ]
    }
   ],
   "source": [
    "from algosdk.future.transaction import AssetConfigTxn, AssetTransferTxn, AssetFreezeTxn\n",
    "\n",
    "# CREATE ASSET\n",
    "# Get network params for transactions before every transaction.\n",
    "params = algod_client.suggested_params()\n",
    "# comment these two lines if you want to use suggested params\n",
    "# params.fee = 1000\n",
    "# params.flat_fee = True\n",
    "# Account 1 creates an asset called latinum and\n",
    "# sets Account 2 as the manager, reserve, freeze, and clawback address.\n",
    "# Asset Creation transaction\n",
    "txn = AssetConfigTxn(\n",
    "    sender=pub_2,\n",
    "    sp=params,\n",
    "    total=1000,\n",
    "    default_frozen=False,\n",
    "    unit_name=\"LATINUM\",\n",
    "    asset_name=\"latinum\",\n",
    "    manager=pub_2,\n",
    "    reserve=pub_2,\n",
    "    freeze=pub_2,\n",
    "    clawback=pub_2,\n",
    "    url=\"https://path/to/my/asset/details\", \n",
    "    decimals=0)\n",
    "# Sign with secret key of creator\n",
    "stxn = txn.sign(priv_2)\n",
    "# Send the transaction to the network and retrieve the txid.\n",
    "try:\n",
    "    txid = algod_client.send_transaction(stxn)\n",
    "    print(\"Signed transaction with txID: {}\".format(txid))\n",
    "    # Wait for the transaction to be confirmed\n",
    "    confirmed_txn = wait_for_confirmation(algod_client, txid, 4)  \n",
    "    print(\"TXID: \", txid)\n",
    "    print(\"Result confirmed in round: {}\".format(confirmed_txn['confirmed-round']))   \n",
    "except Exception as err:\n",
    "    print(err)\n",
    "# Retrieve the asset ID of the newly created asset by first\n",
    "# ensuring that the creation transaction was confirmed,\n",
    "# then grabbing the asset id from the transaction.\n",
    "print(\"Transaction information: {}\".format(\n",
    "    json.dumps(confirmed_txn, indent=4)))\n",
    "# print(\"Decoded note: {}\".format(base64.b64decode(\n",
    "#     confirmed_txn[\"txn\"][\"txn\"][\"note\"]).decode()))\n",
    "\n"
   ]
  },
  {
   "cell_type": "code",
   "execution_count": null,
   "metadata": {},
   "outputs": [],
   "source": []
  }
 ],
 "metadata": {
  "kernelspec": {
   "display_name": "Python 3.10.6 64-bit",
   "language": "python",
   "name": "python3"
  },
  "language_info": {
   "codemirror_mode": {
    "name": "ipython",
    "version": 3
   },
   "file_extension": ".py",
   "mimetype": "text/x-python",
   "name": "python",
   "nbconvert_exporter": "python",
   "pygments_lexer": "ipython3",
   "version": "3.10.6"
  },
  "orig_nbformat": 4,
  "vscode": {
   "interpreter": {
    "hash": "916dbcbb3f70747c44a77c7bcd40155683ae19c65e1c03b4aa3499c5328201f1"
   }
  }
 },
 "nbformat": 4,
 "nbformat_minor": 2
}
