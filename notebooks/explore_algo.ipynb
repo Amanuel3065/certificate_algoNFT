{
 "cells": [
  {
   "cell_type": "code",
   "execution_count": 1,
   "metadata": {},
   "outputs": [
    {
     "name": "stdout",
     "output_type": "stream",
     "text": [
      "My address: OQYO2QCGS2TMS45BCKDPFN3O2W6RATRP3QAQF3F6UQKIBY6FREZKILPXBA\n",
      "My private key: E04CtqXOsgDWyvFumDdS7J0QZJ0PhQoX4r1Cfle0bIB0MO1ARpamyXOhEobyt27VvRBOL9wBAuy+pBSA48WJMg==\n",
      "My passphrase: second ankle swallow tumble grain lens find vault assist taxi cinnamon tell cancel flip language lunar throw marriage galaxy tomorrow puzzle code address above buzz\n"
     ]
    }
   ],
   "source": [
    "from algosdk import account, mnemonic\n",
    "\n",
    "private_key, address = account.generate_account()\n",
    "print(\"My address: {}\".format(address))\n",
    "print(\"My private key: {}\".format(private_key))\n",
    "print(\"My passphrase: {}\".format(mnemonic.from_private_key(private_key)))\n"
   ]
  },
  {
   "cell_type": "code",
   "execution_count": 2,
   "metadata": {},
   "outputs": [
    {
     "data": {
      "text/plain": [
       "<function print>"
      ]
     },
     "execution_count": 2,
     "metadata": {},
     "output_type": "execute_result"
    }
   ],
   "source": [
    "print"
   ]
  },
  {
   "cell_type": "code",
   "execution_count": null,
   "metadata": {},
   "outputs": [],
   "source": []
  }
 ],
 "metadata": {
  "kernelspec": {
   "display_name": "Python 3.10.6 64-bit",
   "language": "python",
   "name": "python3"
  },
  "language_info": {
   "codemirror_mode": {
    "name": "ipython",
    "version": 3
   },
   "file_extension": ".py",
   "mimetype": "text/x-python",
   "name": "python",
   "nbconvert_exporter": "python",
   "pygments_lexer": "ipython3",
   "version": "3.10.6"
  },
  "orig_nbformat": 4,
  "vscode": {
   "interpreter": {
    "hash": "916dbcbb3f70747c44a77c7bcd40155683ae19c65e1c03b4aa3499c5328201f1"
   }
  }
 },
 "nbformat": 4,
 "nbformat_minor": 2
}
